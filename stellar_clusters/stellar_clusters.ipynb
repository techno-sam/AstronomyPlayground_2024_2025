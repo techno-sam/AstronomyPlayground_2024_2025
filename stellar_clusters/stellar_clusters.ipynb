{
 "cells": [
  {
   "cell_type": "code",
   "id": "initial_id",
   "metadata": {
    "collapsed": true,
    "ExecuteTime": {
     "end_time": "2025-03-05T21:18:58.090978Z",
     "start_time": "2025-03-05T21:18:58.075463Z"
    }
   },
   "source": [
    "import tqdm\n",
    "import multiprocessing as mp\n",
    "import typing\n",
    "\n",
    "class Cluster:\n",
    "    def __init__(self, name: str, dm: float, log_age: float, fe_h: float, e_b_sub_v: float, memb: int):\n",
    "        self.name = name\n",
    "        self.dm = dm\n",
    "        self.log_age = log_age\n",
    "        self.fe_h = fe_h\n",
    "        self.e_b_sub_v = e_b_sub_v\n",
    "        self.memb = memb\n",
    "\n",
    "    def __str__(self):\n",
    "        return f\"{self.name}\"\n",
    "\n",
    "    def __repr__(self):\n",
    "        return f\"{self.name}(dm={self.dm}, log_age={self.log_age}, fe_h={self.fe_h}, e_b_sub_v={self.e_b_sub_v}, memb={self.memb})\"\n",
    "\n",
    "\n",
    "clusters = [\n",
    "    Cluster(\"IC 2391\", 5.908, 7.70, -0.01, 0.030, 254),\n",
    "    Cluster(\"NGC 6475\", 7.234, 8.54, 0.02, 0.049, 874),\n",
    "    Cluster(\"NGC 2360\", 10.229, 8.98, -0.03, 0.090, 848),\n",
    "    Cluster(\"NGC 6793\", 8.894, 8.78, float(\"nan\"), 0.272, 271),\n",
    "    Cluster(\"NGC 2232\", 7.575, 7.70, 0.11, 0.031, 241)\n",
    "]"
   ],
   "outputs": [],
   "execution_count": 1
  },
  {
   "metadata": {
    "ExecuteTime": {
     "end_time": "2025-03-05T21:18:59.557218Z",
     "start_time": "2025-03-05T21:18:59.395964Z"
    }
   },
   "cell_type": "code",
   "source": [
    "import sys\n",
    "import os\n",
    "import time\n",
    "import re\n",
    "import json\n",
    "\n",
    "import requests\n",
    "from urllib.parse import quote as urlencode\n",
    "\n",
    "import numpy as np\n",
    "\n",
    "import pprint\n",
    "\n",
    "pp = pprint.PrettyPrinter(indent=4)\n",
    "\n",
    "\n",
    "def mast_query(request):\n",
    "    \"\"\"Perform a MAST query.\n",
    "\n",
    "        Parameters\n",
    "        ----------\n",
    "        request (dictionary): The MAST request json object\n",
    "\n",
    "        Returns head,content where head is the response HTTP headers, and content is the returned data\"\"\"\n",
    "\n",
    "    # Base API url\n",
    "    request_url = \"https://mast.stsci.edu/api/v0/invoke\"\n",
    "\n",
    "    # Grab Python Version\n",
    "    version = \".\".join(map(str, sys.version_info[:3]))\n",
    "\n",
    "    # Create Http Header Variables\n",
    "    headers = {\"Content-type\": \"application/x-www-form-urlencoded\",\n",
    "               \"Accept\": \"text/plain\",\n",
    "               \"User-agent\": \"python-requests/\" + version}\n",
    "\n",
    "    # Encoding the request as a json string\n",
    "    req_string = json.dumps(request)\n",
    "    req_string = urlencode(req_string)\n",
    "\n",
    "    # Perform the HTTP request\n",
    "    resp = requests.post(request_url, data=\"request=\" + req_string, headers=headers)\n",
    "\n",
    "    # Pull out the headers and response content\n",
    "    head = resp.headers\n",
    "    content = resp.content.decode(\"utf-8\")\n",
    "\n",
    "    return head, content\n",
    "\n",
    "def set_filters(parameters):\n",
    "    return [{\"paramName\":p, \"values\":v} for p,v in parameters.items()]\n",
    "\n",
    "def set_min_max(min, max):\n",
    "    return [{\"min\": min, \"max\": max}]\n",
    "\n",
    "def name_resolver(name: str) -> list[dict[str, ...]]:\n",
    "    resolver_request = {\n",
    "        \"service\": \"Mast.Name.Lookup\",\n",
    "        \"params\": {\n",
    "            \"input\": name,\n",
    "            \"format\": \"json\"\n",
    "        },\n",
    "    }\n",
    "\n",
    "    headers, resolved_object_string = mast_query(resolver_request)\n",
    "    resolved_object = json.loads(resolved_object_string)\n",
    "    return resolved_object[\"resolvedCoordinate\"]\n",
    "\n",
    "def cone(name: str, ra: float, dec: float, radius: float, page: int = 1, completion_count: typing.Optional[mp.Value] = None) -> dict[str, ...]:\n",
    "    cone_request = {\n",
    "        \"service\": \" Mast.Catalogs.GaiaDR2.Cone\",\n",
    "        \"params\": {\n",
    "            \"ra\": ra,\n",
    "            \"dec\": dec,\n",
    "            \"radius\": radius,\n",
    "            \"input\": name\n",
    "        },\n",
    "        \"format\": \"json\",\n",
    "        \"pagesize\": 5000,\n",
    "        \"page\": page,\n",
    "        \"removenullcolumns\": False,\n",
    "        \"removenullrows\": False,\n",
    "        \"removecache\": False,\n",
    "        \"columnsconfigid\": \"Mast.Catalogs.Gaia.Cone\"\n",
    "    }\n",
    "\n",
    "    headers, mast_data_string = mast_query(cone_request)\n",
    "    mast_data = json.loads(mast_data_string)\n",
    "\n",
    "    if completion_count is not None:\n",
    "        completion_count.value += 1\n",
    "\n",
    "    return mast_data"
   ],
   "id": "d5a7e751e45e6e14",
   "outputs": [],
   "execution_count": 2
  },
  {
   "metadata": {
    "ExecuteTime": {
     "end_time": "2025-03-05T21:19:04.335419Z",
     "start_time": "2025-03-05T21:19:02.669143Z"
    }
   },
   "cell_type": "code",
   "source": [
    "ic_2391_a = name_resolver(\"IC 2391\")[0]\n",
    "pp.pprint(ic_2391_a)"
   ],
   "id": "3c69fa7fde750918",
   "outputs": [
    {
     "name": "stdout",
     "output_type": "stream",
     "text": [
      "{   'cacheDate': 'Mar 3, 2025, 1:32:45 PM',\n",
      "    'cached': True,\n",
      "    'canonicalName': 'IC 2391',\n",
      "    'decl': -52.991,\n",
      "    'majorAxis': 1.6283333333333334,\n",
      "    'minorAxis': 1.6283333333333334,\n",
      "    'objectType': 'OpenCluster',\n",
      "    'positionAngle': 0.0,\n",
      "    'ra': 130.292,\n",
      "    'radius': 0.8141666666666667,\n",
      "    'resolver': 'SIMBADCFA',\n",
      "    'resolverTime': 284,\n",
      "    'searchRadius': -1.0,\n",
      "    'searchString': 'ic 2391'}\n"
     ]
    }
   ],
   "execution_count": 3
  },
  {
   "metadata": {
    "ExecuteTime": {
     "end_time": "2025-03-05T21:19:28.211823Z",
     "start_time": "2025-03-05T21:19:10.304157Z"
    }
   },
   "cell_type": "code",
   "source": [
    "ic_2391_b = cone(\"IC 2391\", ic_2391_a['ra'], ic_2391_a['decl'], ic_2391_a['radius'])\n",
    "print(\"Query done, printing\")\n",
    "pp.pprint(ic_2391_b.keys())"
   ],
   "id": "58de5630a5f30e6b",
   "outputs": [
    {
     "name": "stdout",
     "output_type": "stream",
     "text": [
      "Query done, printing\n",
      "dict_keys(['status', 'msg', 'data', 'fields', 'paging'])\n"
     ]
    }
   ],
   "execution_count": 4
  },
  {
   "metadata": {
    "ExecuteTime": {
     "end_time": "2025-03-05T21:19:28.327878Z",
     "start_time": "2025-03-05T21:19:28.318268Z"
    }
   },
   "cell_type": "code",
   "source": [
    "pp.pprint({\n",
    "    k: ic_2391_b[k]\n",
    "    for k in ['status', 'msg', 'paging', 'fields']\n",
    "})\n",
    "\n",
    "print(\"\\n\\n\")\n",
    "\n",
    "pp.pprint(ic_2391_b['data'][0])"
   ],
   "id": "ea1108c88ce05f89",
   "outputs": [
    {
     "name": "stdout",
     "output_type": "stream",
     "text": [
      "{   'fields': [   {'name': 'solution_id', 'type': 'string'},\n",
      "                  {'name': 'designation', 'type': 'string'},\n",
      "                  {'name': 'source_id', 'type': 'string'},\n",
      "                  {'name': 'random_index', 'type': 'string'},\n",
      "                  {'name': 'ref_epoch', 'type': 'float'},\n",
      "                  {'name': 'ra', 'type': 'float'},\n",
      "                  {'name': 'ra_error', 'type': 'float'},\n",
      "                  {'name': 'dec', 'type': 'float'},\n",
      "                  {'name': 'dec_error', 'type': 'float'},\n",
      "                  {'name': 'parallax', 'type': 'float'},\n",
      "                  {'name': 'parallax_error', 'type': 'float'},\n",
      "                  {'name': 'parallax_over_error', 'type': 'float'},\n",
      "                  {'name': 'pmra', 'type': 'float'},\n",
      "                  {'name': 'pmra_error', 'type': 'float'},\n",
      "                  {'name': 'pmdec', 'type': 'float'},\n",
      "                  {'name': 'pmdec_error', 'type': 'float'},\n",
      "                  {'name': 'ra_dec_corr', 'type': 'float'},\n",
      "                  {'name': 'ra_parallax_corr', 'type': 'float'},\n",
      "                  {'name': 'ra_pmra_corr', 'type': 'float'},\n",
      "                  {'name': 'ra_pmdec_corr', 'type': 'float'},\n",
      "                  {'name': 'dec_parallax_corr', 'type': 'float'},\n",
      "                  {'name': 'dec_pmra_corr', 'type': 'float'},\n",
      "                  {'name': 'dec_pmdec_corr', 'type': 'float'},\n",
      "                  {'name': 'parallax_pmra_corr', 'type': 'float'},\n",
      "                  {'name': 'parallax_pmdec_corr', 'type': 'float'},\n",
      "                  {'name': 'pmra_pmdec_corr', 'type': 'float'},\n",
      "                  {'name': 'astrometric_n_obs_al', 'type': 'int'},\n",
      "                  {'name': 'astrometric_n_obs_ac', 'type': 'int'},\n",
      "                  {'name': 'astrometric_n_good_obs_al', 'type': 'int'},\n",
      "                  {'name': 'astrometric_n_bad_obs_al', 'type': 'int'},\n",
      "                  {'name': 'astrometric_gof_al', 'type': 'float'},\n",
      "                  {'name': 'astrometric_chi2_al', 'type': 'float'},\n",
      "                  {'name': 'astrometric_excess_noise', 'type': 'float'},\n",
      "                  {'name': 'astrometric_excess_noise_sig', 'type': 'float'},\n",
      "                  {'name': 'astrometric_params_solved', 'type': 'int'},\n",
      "                  {'name': 'astrometric_primary_flag', 'type': 'boolean'},\n",
      "                  {'name': 'astrometric_weight_al', 'type': 'float'},\n",
      "                  {'name': 'astrometric_pseudo_colour', 'type': 'float'},\n",
      "                  {'name': 'astrometric_pseudo_colour_error', 'type': 'float'},\n",
      "                  {'name': 'mean_varpi_factor_al', 'type': 'float'},\n",
      "                  {'name': 'astrometric_matched_observations', 'type': 'int'},\n",
      "                  {'name': 'visibility_periods_used', 'type': 'int'},\n",
      "                  {'name': 'astrometric_sigma5d_max', 'type': 'float'},\n",
      "                  {'name': 'frame_rotator_object_type', 'type': 'int'},\n",
      "                  {'name': 'matched_observations', 'type': 'int'},\n",
      "                  {'name': 'duplicated_source', 'type': 'boolean'},\n",
      "                  {'name': 'phot_g_n_obs', 'type': 'int'},\n",
      "                  {'name': 'phot_g_mean_flux', 'type': 'float'},\n",
      "                  {'name': 'phot_g_mean_flux_error', 'type': 'float'},\n",
      "                  {'name': 'phot_g_mean_flux_over_error', 'type': 'float'},\n",
      "                  {'name': 'phot_g_mean_mag', 'type': 'float'},\n",
      "                  {'name': 'phot_bp_n_obs', 'type': 'int'},\n",
      "                  {'name': 'phot_bp_mean_flux', 'type': 'float'},\n",
      "                  {'name': 'phot_bp_mean_flux_error', 'type': 'float'},\n",
      "                  {'name': 'phot_bp_mean_flux_over_error', 'type': 'float'},\n",
      "                  {'name': 'phot_bp_mean_mag', 'type': 'float'},\n",
      "                  {'name': 'phot_rp_n_obs', 'type': 'int'},\n",
      "                  {'name': 'phot_rp_mean_flux', 'type': 'float'},\n",
      "                  {'name': 'phot_rp_mean_flux_error', 'type': 'float'},\n",
      "                  {'name': 'phot_rp_mean_flux_over_error', 'type': 'float'},\n",
      "                  {'name': 'phot_rp_mean_mag', 'type': 'float'},\n",
      "                  {'name': 'phot_bp_rp_excess_factor', 'type': 'float'},\n",
      "                  {'name': 'phot_proc_mode', 'type': 'int'},\n",
      "                  {'name': 'bp_rp', 'type': 'float'},\n",
      "                  {'name': 'bp_g', 'type': 'float'},\n",
      "                  {'name': 'g_rp', 'type': 'float'},\n",
      "                  {'name': 'radial_velocity', 'type': 'float'},\n",
      "                  {'name': 'radial_velocity_error', 'type': 'float'},\n",
      "                  {'name': 'rv_nb_transits', 'type': 'int'},\n",
      "                  {'name': 'rv_template_teff', 'type': 'float'},\n",
      "                  {'name': 'rv_template_logg', 'type': 'float'},\n",
      "                  {'name': 'rv_template_fe_h', 'type': 'float'},\n",
      "                  {'name': 'phot_variable_flag', 'type': 'string'},\n",
      "                  {'name': 'l', 'type': 'float'},\n",
      "                  {'name': 'b', 'type': 'float'},\n",
      "                  {'name': 'priam_flags', 'type': 'string'},\n",
      "                  {'name': 'teff_val', 'type': 'float'},\n",
      "                  {'name': 'teff_percentile_lower', 'type': 'float'},\n",
      "                  {'name': 'teff_percentile_upper', 'type': 'float'},\n",
      "                  {'name': 'a_g_val', 'type': 'float'},\n",
      "                  {'name': 'a_g_percentile_lower', 'type': 'float'},\n",
      "                  {'name': 'a_g_percentile_upper', 'type': 'float'},\n",
      "                  {'name': 'e_bp_min_rp_val', 'type': 'float'},\n",
      "                  {'name': 'e_bp_min_rp_percentile_lower', 'type': 'float'},\n",
      "                  {'name': 'e_bp_min_rp_percentile_upper', 'type': 'float'},\n",
      "                  {'name': 'flame_flags', 'type': 'string'},\n",
      "                  {'name': 'radius_val', 'type': 'float'},\n",
      "                  {'name': 'radius_percentile_lower', 'type': 'float'},\n",
      "                  {'name': 'radius_percentile_upper', 'type': 'float'},\n",
      "                  {'name': 'lum_val', 'type': 'float'},\n",
      "                  {'name': 'lum_percentile_lower', 'type': 'float'},\n",
      "                  {'name': 'lum_percentile_upper', 'type': 'float'},\n",
      "                  {'name': 'distance', 'type': 'float'},\n",
      "                  {'name': '_selected_', 'type': 'boolean'}],\n",
      "    'msg': '',\n",
      "    'paging': {   'page': 1,\n",
      "                  'pageSize': 5000,\n",
      "                  'pagesFiltered': 40,\n",
      "                  'rows': 5000,\n",
      "                  'rowsFiltered': 197375,\n",
      "                  'rowsTotal': 197375},\n",
      "    'status': 'COMPLETE'}\n",
      "\n",
      "\n",
      "\n",
      "{   '_selected_': None,\n",
      "    'a_g_percentile_lower': None,\n",
      "    'a_g_percentile_upper': None,\n",
      "    'a_g_val': None,\n",
      "    'astrometric_chi2_al': 198.720718,\n",
      "    'astrometric_excess_noise': 0,\n",
      "    'astrometric_excess_noise_sig': 0,\n",
      "    'astrometric_gof_al': 0.5770708,\n",
      "    'astrometric_matched_observations': 22,\n",
      "    'astrometric_n_bad_obs_al': 1,\n",
      "    'astrometric_n_good_obs_al': 193,\n",
      "    'astrometric_n_obs_ac': 0,\n",
      "    'astrometric_n_obs_al': 194,\n",
      "    'astrometric_params_solved': 31,\n",
      "    'astrometric_primary_flag': False,\n",
      "    'astrometric_pseudo_colour': 1.4902876144919037,\n",
      "    'astrometric_pseudo_colour_error': 0.08620910585165743,\n",
      "    'astrometric_sigma5d_max': 0.6727338,\n",
      "    'astrometric_weight_al': 0.147927031,\n",
      "    'b': -6.735489322094444,\n",
      "    'bp_g': 0.326622,\n",
      "    'bp_rp': 1.18136787,\n",
      "    'dec': -52.98943312291754,\n",
      "    'dec_error': 0.3247444764211469,\n",
      "    'dec_parallax_corr': 0.2647157,\n",
      "    'dec_pmdec_corr': -0.2937137,\n",
      "    'dec_pmra_corr': -0.05251833,\n",
      "    'designation': 'Gaia DR2 5318501880027107840',\n",
      "    'distance': 0.10610937224664026,\n",
      "    'duplicated_source': False,\n",
      "    'e_bp_min_rp_percentile_lower': None,\n",
      "    'e_bp_min_rp_percentile_upper': None,\n",
      "    'e_bp_min_rp_val': None,\n",
      "    'flame_flags': None,\n",
      "    'frame_rotator_object_type': 0,\n",
      "    'g_rp': 0.854745865,\n",
      "    'l': 270.38565047215104,\n",
      "    'lum_percentile_lower': None,\n",
      "    'lum_percentile_upper': None,\n",
      "    'lum_val': None,\n",
      "    'matched_observations': 26,\n",
      "    'mean_varpi_factor_al': -0.0647223443,\n",
      "    'parallax': -0.1666394868708941,\n",
      "    'parallax_error': 0.3189187037531955,\n",
      "    'parallax_over_error': -0.522514,\n",
      "    'parallax_pmdec_corr': 0.147953287,\n",
      "    'parallax_pmra_corr': -0.07030193,\n",
      "    'phot_bp_mean_flux': 148.96076802379656,\n",
      "    'phot_bp_mean_flux_error': 10.193521480831725,\n",
      "    'phot_bp_mean_flux_over_error': 14.6132784,\n",
      "    'phot_bp_mean_mag': 19.9187088,\n",
      "    'phot_bp_n_obs': 24,\n",
      "    'phot_bp_rp_excess_factor': 1.4787966,\n",
      "    'phot_g_mean_flux': 274.4804849473194,\n",
      "    'phot_g_mean_flux_error': 1.0737705963425943,\n",
      "    'phot_g_mean_flux_over_error': 255.623016,\n",
      "    'phot_g_mean_mag': 19.5920868,\n",
      "    'phot_g_n_obs': 228,\n",
      "    'phot_proc_mode': 0,\n",
      "    'phot_rp_mean_flux': 256.940031338058,\n",
      "    'phot_rp_mean_flux_error': 10.141404813902081,\n",
      "    'phot_rp_mean_flux_over_error': 25.335743,\n",
      "    'phot_rp_mean_mag': 18.73734,\n",
      "    'phot_rp_n_obs': 24,\n",
      "    'phot_variable_flag': 'NOT_AVAILABLE',\n",
      "    'pmdec': 4.120416063624391,\n",
      "    'pmdec_error': 0.7535786227715674,\n",
      "    'pmra': -4.346839725627598,\n",
      "    'pmra_error': 0.5713149333003653,\n",
      "    'pmra_pmdec_corr': -0.06258432,\n",
      "    'priam_flags': None,\n",
      "    'ra': 130.29336228837562,\n",
      "    'ra_dec_corr': 0.0160976276,\n",
      "    'ra_error': 0.2544119183661343,\n",
      "    'ra_parallax_corr': -0.1294989,\n",
      "    'ra_pmdec_corr': -0.06679458,\n",
      "    'ra_pmra_corr': -0.244115755,\n",
      "    'radial_velocity': None,\n",
      "    'radial_velocity_error': None,\n",
      "    'radius_percentile_lower': None,\n",
      "    'radius_percentile_upper': None,\n",
      "    'radius_val': None,\n",
      "    'random_index': 869379115,\n",
      "    'ref_epoch': 2015.5,\n",
      "    'rv_nb_transits': 0,\n",
      "    'rv_template_fe_h': None,\n",
      "    'rv_template_logg': None,\n",
      "    'rv_template_teff': None,\n",
      "    'solution_id': 1635721458409799680,\n",
      "    'source_id': 5318501880027107840,\n",
      "    'teff_percentile_lower': None,\n",
      "    'teff_percentile_upper': None,\n",
      "    'teff_val': None,\n",
      "    'visibility_periods_used': 14}\n"
     ]
    }
   ],
   "execution_count": 5
  },
  {
   "metadata": {
    "ExecuteTime": {
     "end_time": "2025-03-05T21:20:51.250376Z",
     "start_time": "2025-03-05T21:19:28.449834Z"
    }
   },
   "cell_type": "code",
   "source": [
    "all_data = [*ic_2391_b['data']]\n",
    "\n",
    "page_assignments = list(range(2, ic_2391_b['paging']['pagesFiltered']+1))\n",
    "\n",
    "manager = mp.Manager()\n",
    "completed_count = manager.Value('i', 1)\n",
    "\n",
    "def update_progress():\n",
    "    while completed_count.value < len(page_assignments)+1:\n",
    "        print(f\"\\rProgress: {completed_count.value}/{len(page_assignments)+1}\", end=\"\")\n",
    "        time.sleep(1)\n",
    "\n",
    "status_updater = mp.Process(target=update_progress)\n",
    "status_updater.start()\n",
    "\n",
    "def filtered_cone(*args, **kwargs):\n",
    "    return cone(*args, **kwargs)['data']\n",
    "\n",
    "def flatten(xss):\n",
    "    return [x for xs in xss for x in xs]\n",
    "\n",
    "with mp.Pool(int(mp.cpu_count() * 1.5)) as pool:\n",
    "    all_data.extend(flatten(pool.starmap(\n",
    "        filtered_cone,\n",
    "        [\n",
    "            (\"IC 2391\", ic_2391_a['ra'], ic_2391_a['decl'], ic_2391_a['radius'], page, completed_count)\n",
    "            for page in page_assignments\n",
    "        ]\n",
    "    )))\n",
    "\n",
    "status_updater.terminate()\n",
    "print(\"\\rAll tasks completed\")"
   ],
   "id": "3e5933087e310508",
   "outputs": [
    {
     "name": "stdout",
     "output_type": "stream",
     "text": [
      "All tasks completed\n"
     ]
    }
   ],
   "execution_count": 6
  },
  {
   "metadata": {
    "ExecuteTime": {
     "end_time": "2025-03-05T21:20:51.348503Z",
     "start_time": "2025-03-05T21:20:51.342867Z"
    }
   },
   "cell_type": "code",
   "source": "pp.pprint(len(all_data))",
   "id": "7b2c7aab86d61df8",
   "outputs": [
    {
     "name": "stdout",
     "output_type": "stream",
     "text": [
      "197375\n"
     ]
    }
   ],
   "execution_count": 7
  },
  {
   "metadata": {
    "ExecuteTime": {
     "end_time": "2025-03-05T21:20:51.542852Z",
     "start_time": "2025-03-05T21:20:51.530770Z"
    }
   },
   "cell_type": "code",
   "source": "all_data[-1].keys()",
   "id": "2fbbca54e4f270ed",
   "outputs": [
    {
     "data": {
      "text/plain": [
       "dict_keys(['solution_id', 'designation', 'source_id', 'random_index', 'ref_epoch', 'ra', 'ra_error', 'dec', 'dec_error', 'parallax', 'parallax_error', 'parallax_over_error', 'pmra', 'pmra_error', 'pmdec', 'pmdec_error', 'ra_dec_corr', 'ra_parallax_corr', 'ra_pmra_corr', 'ra_pmdec_corr', 'dec_parallax_corr', 'dec_pmra_corr', 'dec_pmdec_corr', 'parallax_pmra_corr', 'parallax_pmdec_corr', 'pmra_pmdec_corr', 'astrometric_n_obs_al', 'astrometric_n_obs_ac', 'astrometric_n_good_obs_al', 'astrometric_n_bad_obs_al', 'astrometric_gof_al', 'astrometric_chi2_al', 'astrometric_excess_noise', 'astrometric_excess_noise_sig', 'astrometric_params_solved', 'astrometric_primary_flag', 'astrometric_weight_al', 'astrometric_pseudo_colour', 'astrometric_pseudo_colour_error', 'mean_varpi_factor_al', 'astrometric_matched_observations', 'visibility_periods_used', 'astrometric_sigma5d_max', 'frame_rotator_object_type', 'matched_observations', 'duplicated_source', 'phot_g_n_obs', 'phot_g_mean_flux', 'phot_g_mean_flux_error', 'phot_g_mean_flux_over_error', 'phot_g_mean_mag', 'phot_bp_n_obs', 'phot_bp_mean_flux', 'phot_bp_mean_flux_error', 'phot_bp_mean_flux_over_error', 'phot_bp_mean_mag', 'phot_rp_n_obs', 'phot_rp_mean_flux', 'phot_rp_mean_flux_error', 'phot_rp_mean_flux_over_error', 'phot_rp_mean_mag', 'phot_bp_rp_excess_factor', 'phot_proc_mode', 'bp_rp', 'bp_g', 'g_rp', 'radial_velocity', 'radial_velocity_error', 'rv_nb_transits', 'rv_template_teff', 'rv_template_logg', 'rv_template_fe_h', 'phot_variable_flag', 'l', 'b', 'priam_flags', 'teff_val', 'teff_percentile_lower', 'teff_percentile_upper', 'a_g_val', 'a_g_percentile_lower', 'a_g_percentile_upper', 'e_bp_min_rp_val', 'e_bp_min_rp_percentile_lower', 'e_bp_min_rp_percentile_upper', 'flame_flags', 'radius_val', 'radius_percentile_lower', 'radius_percentile_upper', 'lum_val', 'lum_percentile_lower', 'lum_percentile_upper', 'distance', '_selected_'])"
      ]
     },
     "execution_count": 8,
     "metadata": {},
     "output_type": "execute_result"
    }
   ],
   "execution_count": 8
  },
  {
   "metadata": {
    "ExecuteTime": {
     "end_time": "2025-03-05T21:31:15.230805Z",
     "start_time": "2025-03-05T21:31:14.595531Z"
    }
   },
   "cell_type": "code",
   "source": [
    "FILTER_COLUMNS = {'visibility_periods_used', 'astrometric_excess_noise', 'parallax_over_error', 'phot_g_mean_flux_over_error', 'phot_bp_mean_flux_over_error', 'phot_rp_mean_flux_over_error'}\n",
    "DATA_COLUMNS = {'source_id', 'phot_g_mean_flux', 'phot_g_mean_mag', 'bp_rp', 'bp_g', 'g_rp'}\n",
    "RELEVANT_COLUMNS = FILTER_COLUMNS | DATA_COLUMNS\n",
    "\n",
    "relevant_data = [\n",
    "    {k: row[k] for k in RELEVANT_COLUMNS}\n",
    "    for row in all_data\n",
    "]\n",
    "\n",
    "def filter_row(row: dict[str, ...]) -> bool:\n",
    "    if any(row[k] is None for k in RELEVANT_COLUMNS):\n",
    "        return False\n",
    "    return row['visibility_periods_used'] >= 9 and \\\n",
    "        row['astrometric_excess_noise'] < 1 and \\\n",
    "        row['parallax_over_error'] > 10 and \\\n",
    "        row['phot_g_mean_flux_over_error'] > 50 and \\\n",
    "        row['phot_bp_mean_flux_over_error'] > 20 and \\\n",
    "        row['phot_rp_mean_flux_over_error'] > 20\n",
    "\n",
    "relevant_data = [*filter(filter_row, relevant_data)]\n",
    "relevant_data = [\n",
    "    {k: row[k] for k in DATA_COLUMNS}\n",
    "    for row in relevant_data\n",
    "]\n",
    "pp.pprint(len(relevant_data))"
   ],
   "id": "fe811372eff3d032",
   "outputs": [
    {
     "name": "stdout",
     "output_type": "stream",
     "text": [
      "9562\n"
     ]
    }
   ],
   "execution_count": 11
  }
 ],
 "metadata": {
  "kernelspec": {
   "display_name": "Python 3",
   "language": "python",
   "name": "python3"
  },
  "language_info": {
   "codemirror_mode": {
    "name": "ipython",
    "version": 2
   },
   "file_extension": ".py",
   "mimetype": "text/x-python",
   "name": "python",
   "nbconvert_exporter": "python",
   "pygments_lexer": "ipython2",
   "version": "2.7.6"
  }
 },
 "nbformat": 4,
 "nbformat_minor": 5
}
