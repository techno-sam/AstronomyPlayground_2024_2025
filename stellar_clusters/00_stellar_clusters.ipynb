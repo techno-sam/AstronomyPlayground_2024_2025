{
 "cells": [
  {
   "cell_type": "code",
   "id": "initial_id",
   "metadata": {
    "collapsed": true,
    "ExecuteTime": {
     "end_time": "2025-03-05T21:56:56.990601Z",
     "start_time": "2025-03-05T21:56:56.982928Z"
    }
   },
   "source": "from clusters import *",
   "outputs": [],
   "execution_count": 1
  },
  {
   "metadata": {
    "ExecuteTime": {
     "end_time": "2025-03-05T21:56:57.135174Z",
     "start_time": "2025-03-05T21:56:57.131848Z"
    }
   },
   "cell_type": "code",
   "source": [
    "import os\n",
    "\n",
    "try:\n",
    "    os.mkdir(\"cache\")\n",
    "except FileExistsError:\n",
    "    pass"
   ],
   "id": "104177706b99b535",
   "outputs": [],
   "execution_count": 2
  },
  {
   "metadata": {
    "ExecuteTime": {
     "end_time": "2025-03-05T22:15:21.243937Z",
     "start_time": "2025-03-05T21:56:57.179743Z"
    }
   },
   "cell_type": "code",
   "source": [
    "from downloader import *\n",
    "import csv\n",
    "\n",
    "for cluster in clusters:\n",
    "    cluster_store = f\"cache/{cluster.name}.csv\"\n",
    "    if not os.path.exists(cluster_store):\n",
    "        data: list[dict[str, ...]] = download_data(cluster.name)\n",
    "        # write out csv, column names are in DATA_COLUMNS\n",
    "        columns = list(DATA_COLUMNS)\n",
    "        with open(cluster_store, \"w\") as f:\n",
    "            writer = csv.DictWriter(f, fieldnames=columns)\n",
    "            writer.writeheader()\n",
    "            writer.writerows(data)"
   ],
   "id": "f8e16286ad20fba7",
   "outputs": [
    {
     "name": "stdout",
     "output_type": "stream",
     "text": [
      "Starting download for IC 2391\n",
      "> Resolving name\n",
      "> Doing first-page cone search for ra=130.292 dec=-52.991 radius=0.8141666666666667\n",
      "> Fetching remaining pages\n",
      "> All pages fetched for IC 2391\n",
      "> Fetched 9562 filtered rows of data\n",
      "\n",
      "Starting download for NGC 6475\n",
      "> Resolving name\n",
      "> Doing first-page cone search for ra=268.447 dec=-34.841 radius=0.8341666666666666\n",
      "> Fetching remaining pages\n",
      "> All pages fetched for NGC 6475\n",
      "> Fetched 10270 filtered rows of data\n",
      "\n",
      "Starting download for NGC 2360\n",
      "> Resolving name\n",
      "> Doing first-page cone search for ra=109.443 dec=-15.631 radius=0.15416666666666667\n",
      "> Fetching remaining pages\n",
      "> All pages fetched for NGC 2360\n",
      "> Fetched 607 filtered rows of data\n",
      "\n",
      "Starting download for NGC 6793\n",
      "> Resolving name\n",
      "> Doing first-page cone search for ra=290.817 dec=22.159 radius=0.22666666666666666\n",
      "> Fetching remaining pages\n",
      "> All pages fetched for NGC 6793\n",
      "> Fetched 853 filtered rows of data\n",
      "\n",
      "Starting download for NGC 2232\n",
      "> Resolving name\n",
      "> Doing first-page cone search for ra=96.888 dec=-4.749 radius=0.5158333333333334\n",
      "> Fetching remaining pages\n",
      "> All pages fetched for NGC 2232\n",
      "> Fetched 1899 filtered rows of data\n",
      "\n"
     ]
    }
   ],
   "execution_count": 3
  }
 ],
 "metadata": {
  "kernelspec": {
   "display_name": "Python 3",
   "language": "python",
   "name": "python3"
  },
  "language_info": {
   "codemirror_mode": {
    "name": "ipython",
    "version": 2
   },
   "file_extension": ".py",
   "mimetype": "text/x-python",
   "name": "python",
   "nbconvert_exporter": "python",
   "pygments_lexer": "ipython2",
   "version": "2.7.6"
  }
 },
 "nbformat": 4,
 "nbformat_minor": 5
}
