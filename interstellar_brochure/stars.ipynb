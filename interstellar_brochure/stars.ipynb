{
 "cells": [
  {
   "metadata": {
    "ExecuteTime": {
     "end_time": "2024-11-20T21:48:32.873605Z",
     "start_time": "2024-11-20T21:48:32.869354Z"
    }
   },
   "cell_type": "code",
   "source": [
    "from typing import TypeAlias\n",
    "\n",
    "mas: TypeAlias = float\n",
    "\"\"\"Milliarcseconds\"\"\"\n",
    "ly: TypeAlias = float\n",
    "\"\"\"Light years\"\"\"\n",
    "\n",
    "_ = _"
   ],
   "id": "3b1698e298fd7001",
   "outputs": [],
   "execution_count": 27
  },
  {
   "cell_type": "code",
   "id": "initial_id",
   "metadata": {
    "collapsed": true,
    "ExecuteTime": {
     "end_time": "2024-11-20T22:09:06.039447Z",
     "start_time": "2024-11-20T22:09:05.996457Z"
    }
   },
   "source": [
    "def parallax_to_distance(parallax: mas) -> ly:\n",
    "    return (1 / (parallax / 1000)) * 3.262\n",
    "\n",
    "\n",
    "class Destination:\n",
    "    def __init__(self, name: str, messier_number: int | None, object_type: str, parallax: mas, parallax_error: mas | None = None):\n",
    "        self.name = name\n",
    "        self.messier_number = messier_number\n",
    "        self.object_type = object_type\n",
    "        self.parallax: mas = parallax\n",
    "        self.parallax_error: mas | None = parallax_error\n",
    "\n",
    "        self.distance_ly = parallax_to_distance(parallax)\n",
    "        if parallax_error is not None:\n",
    "            dist_a = parallax_to_distance(parallax + parallax_error)\n",
    "            dist_b = parallax_to_distance(parallax - parallax_error)\n",
    "            self.distance_ly_error = abs((dist_a - dist_b) / 2)\n",
    "        else:\n",
    "            self.distance_ly_error = None\n",
    "    \n",
    "    def __str__(self):\n",
    "        msr = f\" (M{self.messier_number})\" if self.messier_number else \"\"\n",
    "        ly_err = f\" ± {self.distance_ly_error:.3f}\" if self.distance_ly_error else \"\"\n",
    "        return f\"{self.name}{msr} ({self.object_type}) - {self.distance_ly:.2f}{ly_err} ly\"\n",
    "\n",
    "\n",
    "destinations = [\n",
    "    Destination(\"Crab Nebula\", 1, \"Planetary Nebula\", 0.51104, 0.07876),\n",
    "    Destination(\"Lagoon Nebula\", 8, \"Emission Nebula\", 0.8505, 0.0952),\n",
    "    Destination(\"Ring Nebula\", 57, \"Planetary Nebula\", 1.2696, 0.0438),\n",
    "    Destination(\"Alpha Centauri\", None, \"Star System\", 750.81, 0.38),\n",
    "    Destination(\"PSR B1257+12\", None, \"Pulsar\", 1.41, 0.08),\n",
    "]\n",
    "\n",
    "print(\"Destinations:\")\n",
    "for dest in destinations:\n",
    "    print(f\"\\t{dest}\")"
   ],
   "outputs": [
    {
     "name": "stdout",
     "output_type": "stream",
     "text": [
      "Destinations:\n",
      "\tCrab Nebula (M1) (Planetary Nebula) - 6383.06 ± 1007.673 ly\n",
      "\tLagoon Nebula (M8) (Emission Nebula) - 3835.39 ± 434.758 ly\n",
      "\tRing Nebula (M57) (Planetary Nebula) - 2569.31 ± 88.744 ly\n",
      "\tAlpha Centauri (Star System) - 4.34 ± 0.002 ly\n",
      "\tPSR B1257+12 (Pulsar) - 2313.48 ± 131.685 ly\n"
     ]
    }
   ],
   "execution_count": 36
  }
 ],
 "metadata": {
  "kernelspec": {
   "display_name": "Python 3",
   "language": "python",
   "name": "python3"
  },
  "language_info": {
   "codemirror_mode": {
    "name": "ipython",
    "version": 2
   },
   "file_extension": ".py",
   "mimetype": "text/x-python",
   "name": "python",
   "nbconvert_exporter": "python",
   "pygments_lexer": "ipython2",
   "version": "2.7.6"
  }
 },
 "nbformat": 4,
 "nbformat_minor": 5
}
